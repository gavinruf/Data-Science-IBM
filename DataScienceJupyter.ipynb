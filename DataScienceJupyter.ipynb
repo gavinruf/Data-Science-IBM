{
 "cells": [
  {
   "cell_type": "markdown",
   "id": "48ef896d",
   "metadata": {},
   "source": [
    "# Data Science with Jupyterlite Notebook"
   ]
  },
  {
   "cell_type": "markdown",
   "id": "62bdfc94",
   "metadata": {},
   "source": [
    "In this notebook, Data Science Tools and Ecosystem are summarized.\n",
    "\n",
    "Some of the popular languages that Data Scientist use are:\n",
    "1. Python\n",
    "2. SQL\n",
    "3. R\n",
    "4. Java\n",
    "5. Scala"
   ]
  },
  {
   "cell_type": "markdown",
   "id": "a0ad70d4",
   "metadata": {},
   "source": [
    "These are some of the commonly used libraries used by Data Scientists:\n",
    "\n",
    "1. Numpy\n",
    "2. Pandas\n",
    "3. Matplotlib\n",
    "4. Scikit-learn\n",
    "5. Keras\n",
    "6. Apache Spark\n",
    "7. ggplot2\n",
    "8. Seaborn"
   ]
  },
  {
   "cell_type": "markdown",
   "id": "433e56f9",
   "metadata": {},
   "source": [
    "| Data Science Tools |\n",
    "|------------------ |\n",
    "| Anaconda          |\n",
    "| Jupyter Notebook  |\n",
    "| R Studio          |\n",
    "| Zeppelin          |\n"
   ]
  },
  {
   "cell_type": "markdown",
   "id": "d2e8125f",
   "metadata": {},
   "source": [
    "Examples of evaluating arthimetic expressions in Python"
   ]
  },
  {
   "cell_type": "code",
   "execution_count": 3,
   "id": "a612fd01",
   "metadata": {},
   "outputs": [
    {
     "data": {
      "text/plain": [
       "17"
      ]
     },
     "execution_count": 3,
     "metadata": {},
     "output_type": "execute_result"
    }
   ],
   "source": [
    "(3*4)+5"
   ]
  },
  {
   "cell_type": "code",
   "execution_count": 5,
   "id": "0aab1762",
   "metadata": {},
   "outputs": [
    {
     "data": {
      "text/plain": [
       "3.0"
      ]
     },
     "execution_count": 5,
     "metadata": {},
     "output_type": "execute_result"
    }
   ],
   "source": [
    "# 180 Mins to Hours\n",
    "180/60"
   ]
  },
  {
   "cell_type": "markdown",
   "id": "93834d75",
   "metadata": {},
   "source": [
    "Objective: List some of the popular languages in Data Science\n",
    "1. Python\n",
    "2. R\n",
    "3. SQL\n",
    "4. Julia"
   ]
  },
  {
   "cell_type": "markdown",
   "id": "5f8e4617",
   "metadata": {},
   "source": [
    "## Author:\n",
    "Gavin Rufus"
   ]
  },
  {
   "cell_type": "code",
   "execution_count": null,
   "id": "f983863e",
   "metadata": {},
   "outputs": [],
   "source": []
  }
 ],
 "metadata": {
  "kernelspec": {
   "display_name": "Python 3 (ipykernel)",
   "language": "python",
   "name": "python3"
  },
  "language_info": {
   "codemirror_mode": {
    "name": "ipython",
    "version": 3
   },
   "file_extension": ".py",
   "mimetype": "text/x-python",
   "name": "python",
   "nbconvert_exporter": "python",
   "pygments_lexer": "ipython3",
   "version": "3.10.9"
  }
 },
 "nbformat": 4,
 "nbformat_minor": 5
}
